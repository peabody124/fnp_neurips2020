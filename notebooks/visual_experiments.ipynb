{
 "cells": [
  {
   "cell_type": "code",
   "execution_count": 1,
   "metadata": {
    "scrolled": true
   },
   "outputs": [
    {
     "name": "stdout",
     "output_type": "stream",
     "text": [
      "Populating the interactive namespace from numpy and matplotlib\n"
     ]
    }
   ],
   "source": [
    "%load_ext autoreload\n",
    "%pylab inline\n",
    "%autoreload 2\n",
    "\n",
    "import seaborn as sns\n",
    "import pandas as pd\n",
    "import numpy as np\n",
    "import sys\n",
    "\n",
    "sys.path.append('..')"
   ]
  },
  {
   "cell_type": "code",
   "execution_count": 2,
   "metadata": {},
   "outputs": [
    {
     "name": "stdout",
     "output_type": "stream",
     "text": [
      "Architecture: [[17, 16], [5, 8], [3, 4], [3, 4], 16, 'same', 'batch']\n",
      "Channel depth: 16\n",
      "WARNING:tensorflow:From /home/jcotton/anaconda3/envs/tensorflow2.2/lib/python3.7/site-packages/tensorflow/python/ops/linalg/linear_operator_lower_triangular.py:158: calling LinearOperator.__init__ (from tensorflow.python.ops.linalg.linear_operator) with graph_parents is deprecated and will be removed in a future version.\n",
      "Instructions for updating:\n",
      "Do not pass `graph_parents`.  They will  no longer be used.\n"
     ]
    },
    {
     "data": {
      "text/plain": [
       "<tensorflow.python.training.tracking.util.CheckpointLoadStatus at 0x7f2e505c99d0>"
      ]
     },
     "execution_count": 2,
     "metadata": {},
     "output_type": "execute_result"
    }
   ],
   "source": [
    "import tensorflow as tf\n",
    "from tuning_manifold.fnp_model import Predictor\n",
    "from tuning_manifold.util import negloglik, pearson\n",
    "\n",
    "tfk = tf.keras\n",
    "\n",
    "# construct a model with architecture matching the saved file\n",
    "neurons = 16\n",
    "stimuli = 2048 # make this longer because we draw additional samples to measure prediction\n",
    "cell_latent_dim = 24\n",
    "image_shape = [36, 64, 1]\n",
    "\n",
    "architecture = [[17,16],[5,8],[3,4],[3,4],16,'same','batch']\n",
    "\n",
    "inputs = [tfk.Input([stimuli, neurons], name='responses'), tfk.Input([stimuli, *image_shape], name='stimuli')]\n",
    "predictor = Predictor(cell_latent_dim=cell_latent_dim, architecture=architecture, cummulative=True, contrastive_weight=0, l2_weight=0)\n",
    "\n",
    "model = tfk.Model(inputs, predictor(inputs))\n",
    "model.compile(loss=negloglik, metrics=[pearson, 'mse'], optimizer=tf.optimizers.Adam(learning_rate=1e-3, clipnorm=10))\n",
    "model.load_weights('fnp_mouse_visual')"
   ]
  },
  {
   "cell_type": "code",
   "execution_count": 3,
   "metadata": {},
   "outputs": [],
   "source": [
    "# Load data into memory. Follow instruction in the PNO directory to\n",
    "# download the test dataset\n",
    "\n",
    "from dataset import FileTreeDataset\n",
    "\n",
    "dat = FileTreeDataset('../pno/data/Lurz2020/static20457-5-9-preproc0',  'images',  'responses')\n",
    "\n",
    "trials = range(len(dat))\n",
    "stimuli = np.stack([dat[i][0][0] for i in trials], axis=0)\n",
    "responses = np.stack([dat[i][1] for i in trials], axis=0)"
   ]
  },
  {
   "cell_type": "code",
   "execution_count": 4,
   "metadata": {},
   "outputs": [],
   "source": [
    "# compare to the same units used in the PNO experiment\n",
    "\n",
    "test_units = np.load('20457-5-9_test_units.npy')\n",
    "trials = dat.trial_info.tiers == 'train' # this indicates not repeated\n",
    "\n",
    "test_stimuli = stimuli[np.newaxis,  trials, ..., np.newaxis].astype(np.float32)\n",
    "test_responses = responses[np.newaxis, trials, ...][..., np.isin(dat.neurons.unit_ids, test_units) ].astype(np.float32)"
   ]
  },
  {
   "cell_type": "code",
   "execution_count": 5,
   "metadata": {},
   "outputs": [],
   "source": [
    "# Can use the version of these in the predictor to use samples from\n",
    "# distribution, or these to sample the mean (when testing)\n",
    "\n",
    "import tensorflow as tf\n",
    "import tensorflow_probability as tfp\n",
    "from tuning_manifold.fnp_model import DeepSetSimple, HigherRankOperator, image_to_distribution\n",
    "from tuning_manifold.util import interpolate_bilinear\n",
    "\n",
    "tfk = tf.keras\n",
    "tfpl = tfp.layers\n",
    "\n",
    "predictor = model.layers[2]\n",
    "\n",
    "location_predictor = predictor.location_predictor\n",
    "\n",
    "# draw samples from the distribution and move them from the batch dimension\n",
    "heatmap_to_dist_mean = tf.keras.layers.Lambda(lambda x: tf.expand_dims(image_to_distribution(x).mean(), axis=1))\n",
    "\n",
    "mean_location_predictor = tfk.Sequential([\n",
    "    # Perform convolution on each g-response image and output flattend version\n",
    "    location_predictor.layers[0],\n",
    "    # Exclusive set collapse\n",
    "    DeepSetSimple(True),\n",
    "    # Take the collapsed image and convert to distribution\n",
    "    HigherRankOperator(heatmap_to_dist_mean)\n",
    "], name='mean_location_predictor')\n",
    "\n",
    "feature_mlp = predictor.feature_mlp\n",
    "feature_mlp.layers[5] = tfpl.MultivariateNormalTriL(cell_latent_dim, convert_to_tensor_fn=lambda x: x.mean())\n",
    "\n",
    "def compute_summary(predictor, inputs, return_im_feat=False, samples=1):\n",
    "    responses, stimuli = inputs\n",
    "\n",
    "    # convolve input stimuli\n",
    "    g = predictor.im_conv_wrapper(stimuli)\n",
    "    gr = predictor.crc([responses, g])\n",
    "\n",
    "    sample_locations = mean_location_predictor(gr)\n",
    "\n",
    "    # extract the image feature for each trial x neuron estimate of the location\n",
    "    bs, stimuli, Ny, Nx, Nc = g.shape\n",
    "    bs, stimuli, neurons, samples, coordinates = sample_locations.shape\n",
    "    tf.assert_equal(coordinates, 2)\n",
    "    im_feat = interpolate_bilinear(tf.reshape(g, [-1, Ny, Nx, Nc]),\n",
    "                                   tf.reshape(sample_locations, [-1, neurons * samples, 2]))\n",
    "    im_feat = tf.reshape(im_feat, [-1, stimuli, neurons, samples, Nc])\n",
    "\n",
    "    # construct vector for each trial that includes information about the responses\n",
    "    # and the feature, including a STA type response\n",
    "    response_samples = tf.tile(responses[:, :, :, None, None], [1, 1, 1, samples, 1])\n",
    "    x2 = tf.concat([im_feat, im_feat * response_samples, response_samples], axis=-1)\n",
    "\n",
    "    # then let those interact through an MLP and then compute an average feature.\n",
    "    # again for trial N this is computed only using information from the other\n",
    "    # trials. This should compute a summary statistics describing a neuron (other\n",
    "    # than the spatial location) based on those other trials.\n",
    "    cell_summary = feature_mlp(x2)\n",
    "\n",
    "    if not return_im_feat:\n",
    "        return sample_locations, cell_summary\n",
    "    else:\n",
    "        return sample_locations, cell_summary, im_feat"
   ]
  },
  {
   "cell_type": "code",
   "execution_count": 6,
   "metadata": {},
   "outputs": [],
   "source": [
    "def compute_rs(model, inputs, max_trial=1000, trials=[10, 25, 50, 100, 250, 500, 1000]):\n",
    "    import scipy\n",
    "\n",
    "    responses, stimuli = inputs\n",
    "    \n",
    "    r = responses[:,:max_trial,...]\n",
    "    s = stimuli[:,:max_trial,...]\n",
    "    \n",
    "    predictor = model.layers[-1]\n",
    "    sample_location, cell_summary = compute_summary(predictor, (r, s))\n",
    "    im_conv = predictor.im_conv_wrapper.operator\n",
    "\n",
    "    g = im_conv(stimuli[0, max_trial:])\n",
    "\n",
    "    rs = []\n",
    "    \n",
    "    for trial in trials:\n",
    "\n",
    "        trial_sample_locations = sample_location[0, -1, :, 0, :]\n",
    "        w, b = cell_summary[0, trial-1, :, 0, :-1], cell_summary[0, trial-1, :, 0, -1]\n",
    "        w = tf.expand_dims(w, 0)\n",
    "        b =  tf.expand_dims(b, 0)\n",
    "\n",
    "\n",
    "        locations = tf.reshape(trial_sample_locations, [1, trial_sample_locations.shape[0], trial_sample_locations.shape[-1]])\n",
    "        locations = tf.tile(locations, [g.shape[0], 1, 1])\n",
    "\n",
    "        im_feat = interpolate_bilinear(g, locations)\n",
    "\n",
    "        t = tf.reduce_sum(tf.multiply(im_feat, w), axis=-1) + b\n",
    "        t = tf.nn.elu(t) + 1\n",
    "        \n",
    "        r = [scipy.stats.pearsonr(responses[0, max_trial:, i], t[:, i].numpy())[0] for i in range(t.shape[1])]\n",
    "        rs.append(r)\n",
    "\n",
    "    return trials, np.array(rs)"
   ]
  },
  {
   "cell_type": "code",
   "execution_count": 7,
   "metadata": {},
   "outputs": [],
   "source": [
    "all_rs = []\n",
    "for i in np.arange(0, 1000, 10):\n",
    "    trials, rs = compute_rs(model, (test_responses[:, :, i:i+10], test_stimuli),\n",
    "                            max_trial=1024, trials=np.arange(25,1025,25))\n",
    "    all_rs.append(rs)\n",
    "    \n",
    "all_rs = np.concatenate(all_rs, axis=1)"
   ]
  },
  {
   "cell_type": "code",
   "execution_count": 8,
   "metadata": {},
   "outputs": [
    {
     "data": {
      "image/png": "[encoded data removed]",
      "text/plain": [
       "<Figure size 432x288 with 1 Axes>"
      ]
     },
     "metadata": {
      "needs_background": "light"
     },
     "output_type": "display_data"
    }
   ],
   "source": [
    "plt.semilogx(trials, np.mean(all_rs, axis=1), 'k.-')\n",
    "plt.xlabel('Observation set size (K)')\n",
    "plt.ylabel('Pearson R');\n",
    "\n",
    "sns.despine(trim=False)"
   ]
  }
 ],
 "metadata": {
  "kernelspec": {
   "display_name": "Python 3",
   "language": "python",
   "name": "python3"
  },
  "language_info": {
   "codemirror_mode": {
    "name": "ipython",
    "version": 3
   },
   "file_extension": ".py",
   "mimetype": "text/x-python",
   "name": "python",
   "nbconvert_exporter": "python",
   "pygments_lexer": "ipython3",
   "version": "3.7.7"
  }
 },
 "nbformat": 4,
 "nbformat_minor": 2
}
